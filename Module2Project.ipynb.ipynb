{
  "metadata": {
    "kernelspec": {
      "name": "python",
      "display_name": "Python (Pyodide)",
      "language": "python"
    },
    "language_info": {
      "codemirror_mode": {
        "name": "python",
        "version": 3
      },
      "file_extension": ".py",
      "mimetype": "text/x-python",
      "name": "python",
      "nbconvert_exporter": "python",
      "pygments_lexer": "ipython3",
      "version": "3.8"
    },
    "prev_pub_hash": "90ac80ca41fde58b95f02cc0cfc0a0f2ed3115615ffe1bdfdfc10fd5ffeef9a4"
  },
  "nbformat_minor": 4,
  "nbformat": 4,
  "cells": [
    {
      "cell_type": "markdown",
      "source": "<p style=\"text-align:center\">\n    <a href=\"https://skills.network/?utm_medium=Exinfluencer&utm_source=Exinfluencer&utm_content=000026UJ&utm_term=10006555&utm_id=NA-SkillsNetwork-Channel-SkillsNetworkCoursesIBMDA0321ENSkillsNetwork928-2022-01-01\" target=\"_blank\">\n    <img src=\"https://cf-courses-data.s3.us.cloud-object-storage.appdomain.cloud/assets/logos/SN_web_lightmode.png\" width=\"400\" alt=\"Skills Network Logo\"  />\n    </a>\n</p>\n",
      "metadata": {}
    },
    {
      "cell_type": "markdown",
      "source": "# **Data Wrangling Lab**\n",
      "metadata": {}
    },
    {
      "cell_type": "markdown",
      "source": "Estimated time needed: **45 to 60** minutes\n",
      "metadata": {}
    },
    {
      "cell_type": "markdown",
      "source": "In this assignment you will be performing data wrangling.\n",
      "metadata": {}
    },
    {
      "cell_type": "markdown",
      "source": "## Objectives\n",
      "metadata": {}
    },
    {
      "cell_type": "markdown",
      "source": "In this lab you will perform the following:\n",
      "metadata": {}
    },
    {
      "cell_type": "markdown",
      "source": "-   Identify duplicate values in the dataset.\n\n-   Remove duplicate values from the dataset.\n\n-   Identify missing values in the dataset.\n\n-   Impute the missing values in the dataset.\n\n-   Normalize data in the dataset.\n",
      "metadata": {}
    },
    {
      "cell_type": "markdown",
      "source": "<hr>\n",
      "metadata": {}
    },
    {
      "cell_type": "markdown",
      "source": "## Hands on Lab\n",
      "metadata": {}
    },
    {
      "cell_type": "markdown",
      "source": "Import pandas module.\n",
      "metadata": {}
    },
    {
      "cell_type": "code",
      "source": "import pandas as pd",
      "metadata": {
        "trusted": true
      },
      "outputs": [],
      "execution_count": 3
    },
    {
      "cell_type": "markdown",
      "source": "Load the dataset into a dataframe.\n",
      "metadata": {}
    },
    {
      "cell_type": "markdown",
      "source": "<h2>Read Data</h2>\n<p>\nWe utilize the <code>pandas.read_csv()</code> function for reading CSV files. However, in this version of the lab, which operates on JupyterLite, the dataset needs to be downloaded to the interface using the provided code below.\n</p>\n",
      "metadata": {}
    },
    {
      "cell_type": "markdown",
      "source": "The functions below will download the dataset into your browser:\n",
      "metadata": {}
    },
    {
      "cell_type": "code",
      "source": "from pyodide.http import pyfetch\nfile_path = \"https://cf-courses-data.s3.us.cloud-object-storage.appdomain.cloud/IBM-DA0321EN-SkillsNetwork/LargeData/m1_survey_data.csv\"\nasync def download(url, filename):\n    response = await pyfetch(url)\n    if response.status == 200:\n        with open(filename, \"wb\") as f:\n            f.write(await response.bytes())",
      "metadata": {
        "trusted": true
      },
      "outputs": [],
      "execution_count": 14
    },
    {
      "cell_type": "code",
      "source": "",
      "metadata": {},
      "outputs": [],
      "execution_count": null
    },
    {
      "cell_type": "markdown",
      "source": "To obtain the dataset, utilize the download() function as defined above:  \n",
      "metadata": {}
    },
    {
      "cell_type": "code",
      "source": "await download(file_path, \"m1_survey_data.csv\")\nfile_name=\"m1_survey_data.csv\"",
      "metadata": {
        "trusted": true
      },
      "outputs": [],
      "execution_count": 15
    },
    {
      "cell_type": "markdown",
      "source": "Utilize the Pandas method read_csv() to load the data into a dataframe.\n",
      "metadata": {}
    },
    {
      "cell_type": "code",
      "source": "df = pd.read_csv(file_name)\n",
      "metadata": {
        "trusted": true
      },
      "outputs": [],
      "execution_count": 19
    },
    {
      "cell_type": "markdown",
      "source": "> Note: This version of the lab is working on JupyterLite, which requires the dataset to be downloaded to the interface.While working on the downloaded version of this notebook on their local machines(Jupyter Anaconda), the learners can simply **skip the steps above,** and simply use the URL directly in the `pandas.read_csv()` function. You can uncomment and run the statements in the cell below.\n",
      "metadata": {}
    },
    {
      "cell_type": "code",
      "source": "geData/m1_survey_data.csv\")",
      "metadata": {},
      "outputs": [],
      "execution_count": null
    },
    {
      "cell_type": "markdown",
      "source": "## Finding duplicates\n",
      "metadata": {}
    },
    {
      "cell_type": "markdown",
      "source": "In this section you will identify duplicate values in the dataset.\n",
      "metadata": {}
    },
    {
      "cell_type": "markdown",
      "source": " Find how many duplicate rows exist in the dataframe.\n",
      "metadata": {}
    },
    {
      "cell_type": "code",
      "source": "# your code goes here\nduplicate_rows = df.duplicated()\n\n# Count the number of duplicate rows\nnum_duplicates = duplicate_rows.sum()\n\nprint(f\"There are {num_duplicates} duplicate rows in the DataFrame.\")",
      "metadata": {
        "trusted": true
      },
      "outputs": [
        {
          "name": "stdout",
          "text": "There are 154 duplicate rows in the DataFrame.\n",
          "output_type": "stream"
        }
      ],
      "execution_count": 20
    },
    {
      "cell_type": "markdown",
      "source": "## Removing duplicates\n",
      "metadata": {}
    },
    {
      "cell_type": "markdown",
      "source": "Remove the duplicate rows from the dataframe.\n",
      "metadata": {}
    },
    {
      "cell_type": "code",
      "source": "df_cleaned = df.drop_duplicates()\n\n# Alternatively, overwrite the original DataFrame\n# df = df.drop_duplicates()\n\nprint(f\"DataFrame shape after removing duplicates: {df_cleaned.shape}\")\n",
      "metadata": {
        "trusted": true
      },
      "outputs": [
        {
          "name": "stdout",
          "text": "DataFrame shape after removing duplicates: (11398, 85)\n",
          "output_type": "stream"
        }
      ],
      "execution_count": 21
    },
    {
      "cell_type": "markdown",
      "source": "Verify if duplicates were actually dropped.\n",
      "metadata": {}
    },
    {
      "cell_type": "code",
      "source": "shape_before = df.shape\nprint(f\"Shape before removing duplicates: {shape_before}\")\n\n# Remove duplicate rows\ndf_cleaned = df.drop_duplicates()\n\n# Check the shape of the DataFrame after removing duplicates\nshape_after = df_cleaned.shape\nprint(f\"Shape after removing duplicates: {shape_after}\")\n",
      "metadata": {
        "trusted": true
      },
      "outputs": [
        {
          "name": "stdout",
          "text": "Shape before removing duplicates: (11552, 85)\nShape after removing duplicates: (11398, 85)\n",
          "output_type": "stream"
        }
      ],
      "execution_count": 22
    },
    {
      "cell_type": "markdown",
      "source": "## Finding Missing values\n",
      "metadata": {}
    },
    {
      "cell_type": "markdown",
      "source": "Find the missing values for all columns.\n",
      "metadata": {}
    },
    {
      "cell_type": "code",
      "source": "missing_values = df.isnull().sum()\n\n# Display missing values count for each column\nprint(\"Missing values per column:\")\nprint(missing_values)\n",
      "metadata": {
        "trusted": true
      },
      "outputs": [
        {
          "name": "stdout",
          "text": "Missing values per column:\nRespondent        0\nMainBranch        0\nHobbyist          0\nOpenSourcer       0\nOpenSource       81\n               ... \nSexuality       547\nEthnicity       683\nDependents      144\nSurveyLength     19\nSurveyEase       14\nLength: 85, dtype: int64\n",
          "output_type": "stream"
        }
      ],
      "execution_count": 23
    },
    {
      "cell_type": "markdown",
      "source": "Find out how many rows are missing in the column 'WorkLoc'\n",
      "metadata": {}
    },
    {
      "cell_type": "code",
      "source": "missing_values_in_WorkLoc = df['WorkLoc'].isnull().sum()\n\nprint(f\"Number of missing values in the 'WorkLoc' column: {missing_values_in_WorkLoc}\")",
      "metadata": {
        "trusted": true
      },
      "outputs": [
        {
          "name": "stdout",
          "text": "Number of missing values in the 'WorkLoc' column: 32\n",
          "output_type": "stream"
        }
      ],
      "execution_count": 24
    },
    {
      "cell_type": "markdown",
      "source": "## Imputing missing values\n",
      "metadata": {}
    },
    {
      "cell_type": "markdown",
      "source": "Find the  value counts for the column WorkLoc.\n",
      "metadata": {}
    },
    {
      "cell_type": "code",
      "source": "value_counts_WorkLoc = df['WorkLoc'].value_counts()\n\nprint(\"Value counts for the 'WorkLoc' column:\")\nprint(value_counts_WorkLoc)\n",
      "metadata": {
        "trusted": true
      },
      "outputs": [
        {
          "name": "stdout",
          "text": "Value counts for the 'WorkLoc' column:\nWorkLoc\nOffice                                            6905\nHome                                              3638\nOther place, such as a coworking space or cafe     977\nName: count, dtype: int64\n",
          "output_type": "stream"
        }
      ],
      "execution_count": 25
    },
    {
      "cell_type": "markdown",
      "source": "Identify the value that is most frequent (majority) in the WorkLoc column.\n",
      "metadata": {}
    },
    {
      "cell_type": "code",
      "source": "#make a note of the majority value here, for future reference\nvalue_counts_WorkLoc = df['WorkLoc'].value_counts()\n\n# Identify the most frequent value\nmost_frequent_value = value_counts_WorkLoc.idxmax()\nmost_frequent_count = value_counts_WorkLoc.max()\n\nprint(f\"The most frequent value in the 'WorkLoc' column is '{most_frequent_value}' with {most_frequent_count} occurrences.\")",
      "metadata": {
        "trusted": true
      },
      "outputs": [
        {
          "name": "stdout",
          "text": "The most frequent value in the 'WorkLoc' column is 'Office' with 6905 occurrences.\n",
          "output_type": "stream"
        }
      ],
      "execution_count": 26
    },
    {
      "cell_type": "markdown",
      "source": "Impute (replace) all the empty rows in the column WorkLoc with the value that you have identified as majority.\n",
      "metadata": {}
    },
    {
      "cell_type": "code",
      "source": "df['WorkLoc'].fillna(most_frequent_value, inplace=True)\n\n# Verify the replacement\nmissing_values_after = df['WorkLoc'].isnull().sum()\nprint(f\"Number of missing values in 'WorkLoc' column after replacement: {missing_values_after}\")\n\n\n\n",
      "metadata": {
        "trusted": true
      },
      "outputs": [
        {
          "name": "stdout",
          "text": "Number of missing values in 'WorkLoc' column after replacement: 0\n",
          "output_type": "stream"
        }
      ],
      "execution_count": 29
    },
    {
      "cell_type": "markdown",
      "source": "After imputation there should ideally not be any empty rows in the WorkLoc column.\n",
      "metadata": {}
    },
    {
      "cell_type": "markdown",
      "source": "Verify if imputing was successful.\n",
      "metadata": {}
    },
    {
      "cell_type": "code",
      "source": "# Output the result\nif missing_values_after == 0:\n    print(\"All missing values in the 'WorkLoc' column have been successfully replaced.\")\nelse:\n    print(f\"There are still {missing_values_after} missing values in the 'WorkLoc' column.\")\n\n# Optionally, display the first few rows to confirm changes\nprint(\"Sample data after replacing missing values:\")\nprint(df.head())\n",
      "metadata": {
        "trusted": true
      },
      "outputs": [
        {
          "name": "stdout",
          "text": "All missing values in the 'WorkLoc' column have been successfully replaced.\nSample data after replacing missing values:\n   Respondent                      MainBranch Hobbyist  \\\n0           4  I am a developer by profession       No   \n1           9  I am a developer by profession      Yes   \n2          13  I am a developer by profession      Yes   \n3          16  I am a developer by profession      Yes   \n4          17  I am a developer by profession      Yes   \n\n                                         OpenSourcer  \\\n0                                              Never   \n1                         Once a month or more often   \n2  Less than once a month but more than once per ...   \n3                                              Never   \n4  Less than once a month but more than once per ...   \n\n                                          OpenSource          Employment  \\\n0  The quality of OSS and closed source software ...  Employed full-time   \n1  The quality of OSS and closed source software ...  Employed full-time   \n2  OSS is, on average, of HIGHER quality than pro...  Employed full-time   \n3  The quality of OSS and closed source software ...  Employed full-time   \n4  The quality of OSS and closed source software ...  Employed full-time   \n\n          Country Student                                            EdLevel  \\\n0   United States      No           Bachelor’s degree (BA, BS, B.Eng., etc.)   \n1     New Zealand      No  Some college/university study without earning ...   \n2   United States      No        Master’s degree (MA, MS, M.Eng., MBA, etc.)   \n3  United Kingdom      No        Master’s degree (MA, MS, M.Eng., MBA, etc.)   \n4       Australia      No           Bachelor’s degree (BA, BS, B.Eng., etc.)   \n\n                                      UndergradMajor  ...  \\\n0  Computer science, computer engineering, or sof...  ...   \n1  Computer science, computer engineering, or sof...  ...   \n2  Computer science, computer engineering, or sof...  ...   \n3                                                NaN  ...   \n4  Computer science, computer engineering, or sof...  ...   \n\n                              WelcomeChange  \\\n0   Just as welcome now as I felt last year   \n1   Just as welcome now as I felt last year   \n2  Somewhat more welcome now than last year   \n3   Just as welcome now as I felt last year   \n4   Just as welcome now as I felt last year   \n\n                                        SONewContent   Age Gender Trans  \\\n0  Tech articles written by other developers;Indu...  22.0    Man    No   \n1                                                NaN  23.0    Man    No   \n2  Tech articles written by other developers;Cour...  28.0    Man    No   \n3  Tech articles written by other developers;Indu...  26.0    Man    No   \n4  Tech articles written by other developers;Indu...  29.0    Man    No   \n\n                 Sexuality                              Ethnicity Dependents  \\\n0  Straight / Heterosexual           White or of European descent         No   \n1                 Bisexual           White or of European descent         No   \n2  Straight / Heterosexual           White or of European descent        Yes   \n3  Straight / Heterosexual           White or of European descent         No   \n4  Straight / Heterosexual  Hispanic or Latino/Latina;Multiracial         No   \n\n            SurveyLength                  SurveyEase  \n0  Appropriate in length                        Easy  \n1  Appropriate in length  Neither easy nor difficult  \n2  Appropriate in length                        Easy  \n3  Appropriate in length  Neither easy nor difficult  \n4  Appropriate in length                        Easy  \n\n[5 rows x 85 columns]\n",
          "output_type": "stream"
        }
      ],
      "execution_count": 30
    },
    {
      "cell_type": "markdown",
      "source": "## Normalizing data\n",
      "metadata": {}
    },
    {
      "cell_type": "markdown",
      "source": "There are two columns in the dataset that talk about compensation.\n\nOne is \"CompFreq\". This column shows how often a developer is paid (Yearly, Monthly, Weekly).\n\nThe other is \"CompTotal\". This column talks about how much the developer is paid per Year, Month, or Week depending upon his/her \"CompFreq\". \n\nThis makes it difficult to compare the total compensation of the developers.\n\nIn this section you will create a new column called 'NormalizedAnnualCompensation' which contains the 'Annual Compensation' irrespective of the 'CompFreq'.\n\nOnce this column is ready, it makes comparison of salaries easy.\n",
      "metadata": {}
    },
    {
      "cell_type": "markdown",
      "source": "<hr>\n",
      "metadata": {}
    },
    {
      "cell_type": "markdown",
      "source": "# List unique categories in the 'CompFreq' column\nunique_comp_freq = df['CompFreq'].unique()\n\nprint(\"Unique categories in the 'CompFreq' column:\")\nprint(unique_comp_freq)\n",
      "metadata": {}
    },
    {
      "cell_type": "code",
      "source": "# List unique categories in the 'CompFreq' column\nunique_comp_freq = df['CompFreq'].unique()\n\nprint(\"Unique categories in the 'CompFreq' column:\")\nprint(unique_comp_freq)\n",
      "metadata": {
        "trusted": true
      },
      "outputs": [
        {
          "name": "stdout",
          "text": "Unique categories in the 'CompFreq' column:\n['Yearly' 'Monthly' 'Weekly' nan]\n",
          "output_type": "stream"
        }
      ],
      "execution_count": 31
    },
    {
      "cell_type": "markdown",
      "source": "Create a new column named 'NormalizedAnnualCompensation'. Use the hint given below if needed.\n",
      "metadata": {}
    },
    {
      "cell_type": "markdown",
      "source": "Double click to see the **Hint**.\n\n<!--\n\nUse the below logic to arrive at the values for the column NormalizedAnnualCompensation.\n\nIf the CompFreq is Yearly then use the exising value in CompTotal\nIf the CompFreq is Monthly then multiply the value in CompTotal with 12 (months in an year)\nIf the CompFreq is Weekly then multiply the value in CompTotal with 52 (weeks in an year)\n\n-->\n",
      "metadata": {}
    },
    {
      "cell_type": "code",
      "source": "def normalize_annual_compensation(row):\n    comp_freq = row['CompFreq']\n    comp_total = row['CompTotal']\n    \n    if pd.isnull(comp_total) or pd.isnull(comp_freq):\n        return None  # Return None if there is missing data\n    \n    if comp_freq == 'Yearly':\n        return comp_total\n    elif comp_freq == 'Monthly':\n        return comp_total * 12\n    elif comp_freq == 'Weekly':\n        return comp_total * 52\n    else:\n        return None  # Handle unexpected values\n\ndf['NormalizedAnnualCompensation'] = df.apply(normalize_annual_compensation, axis=1)\n\n# Display the first few rows to verify the results\nprint(df[['CompFreq', 'CompTotal', 'NormalizedAnnualCompensation']].head())\n\n# Check for any missing values in the new column\nmissing_values_in_new_column = df['NormalizedAnnualCompensation'].isnull().sum()\nprint(f\"Number of missing values in 'NormalizedAnnualCompensation': {missing_values_in_new_column}\")\n",
      "metadata": {
        "trusted": true
      },
      "outputs": [
        {
          "name": "stdout",
          "text": "  CompFreq  CompTotal  NormalizedAnnualCompensation\n0   Yearly    61000.0                       61000.0\n1   Yearly   138000.0                      138000.0\n2   Yearly    90000.0                       90000.0\n3  Monthly    29000.0                      348000.0\n4   Yearly    90000.0                       90000.0\nNumber of missing values in 'NormalizedAnnualCompensation': 821\n",
          "output_type": "stream"
        }
      ],
      "execution_count": 32
    },
    {
      "cell_type": "markdown",
      "source": "## Authors\n",
      "metadata": {}
    },
    {
      "cell_type": "markdown",
      "source": "Ramesh Sannareddy\n",
      "metadata": {}
    },
    {
      "cell_type": "markdown",
      "source": "### Other Contributors\n",
      "metadata": {}
    },
    {
      "cell_type": "markdown",
      "source": "Rav Ahuja\n",
      "metadata": {}
    },
    {
      "cell_type": "markdown",
      "source": " Copyright © 2020 IBM Corporation. This notebook and its source code are released under the terms of the [MIT License](https://cognitiveclass.ai/mit-license?utm_medium=Exinfluencer&utm_source=Exinfluencer&utm_content=000026UJ&utm_term=10006555&utm_id=NA-SkillsNetwork-Channel-SkillsNetworkCoursesIBMDA0321ENSkillsNetwork928-2022-01-01&cm_mmc=Email_Newsletter-_-Developer_Ed%2BTech-_-WW_WW-_-SkillsNetwork-Courses-IBM-DA0321EN-SkillsNetwork-21426264&cm_mmca1=000026UJ&cm_mmca2=10006555&cm_mmca3=M12345678&cvosrc=email.Newsletter.M12345678&cvo_campaign=000026UJ).\n",
      "metadata": {}
    },
    {
      "cell_type": "markdown",
      "source": "<!--## Change Log\n",
      "metadata": {}
    },
    {
      "cell_type": "markdown",
      "source": "<!--| Date (YYYY-MM-DD) | Version | Changed By        | Change Description                 |\n| ----------------- | ------- | ----------------- | ---------------------------------- |\n| 2020-10-17        | 0.1     | Ramesh Sannareddy | Created initial version of the lab |--!>\n",
      "metadata": {}
    }
  ]
}